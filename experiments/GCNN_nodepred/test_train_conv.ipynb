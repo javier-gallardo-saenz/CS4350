{
 "cells": [
  {
   "cell_type": "code",
   "execution_count": 4,
   "id": "f059a47b",
   "metadata": {},
   "outputs": [],
   "source": [
    "# PyTorch core\n",
    "import torch\n",
    "import torch.nn as nn\n",
    "import torch.nn.functional as F\n",
    "import torch.optim as optim\n",
    "import torch.sparse\n",
    "\n",
    "import networkx as nx\n",
    "import numpy as np\n",
    "import random\n",
    "\n",
    "# PyTorch Geometric\n",
    "from torch_geometric.data import Data\n",
    "from torch_geometric.loader import DataLoader\n",
    "from torch_geometric.nn import global_mean_pool \n",
    "from torch_geometric.datasets import QM9\n",
    "import torch_geometric.transforms as T\n",
    "\n",
    "\n",
    "# Optional: Progress bars\n",
    "from tqdm import tqdm\n",
    "\n",
    "from gcnn import GCNN"
   ]
  },
  {
   "cell_type": "code",
   "execution_count": 6,
   "id": "d6637ff4",
   "metadata": {},
   "outputs": [],
   "source": [
    "def generate_toy_graph(num_nodes):\n",
    "    G = nx.path_graph(num_nodes)  # simple graph type\n",
    "    x = torch.rand(num_nodes, 5)  # random node features\n",
    "    y = torch.tensor([float(num_nodes**2)])  # target is square of node count\n",
    "    data = Data(x=x, edge_index=torch.tensor(list(G.edges)).t().contiguous())\n",
    "    data.y = y\n",
    "    data.num_nodes = num_nodes\n",
    "    return data\n",
    "\n",
    "# Generate dataset\n",
    "dataset = [generate_toy_graph(n) for n in range(5, 25)]  # 20 graphs\n",
    "random.shuffle(dataset)\n",
    "train_dataset = dataset[:15]\n",
    "test_dataset = dataset[15:]\n",
    "train_loader = DataLoader(train_dataset, batch_size=4, shuffle=True)\n",
    "test_loader = DataLoader(test_dataset, batch_size=4)"
   ]
  },
  {
   "cell_type": "code",
   "execution_count": null,
   "id": "892ff67a",
   "metadata": {},
   "outputs": [],
   "source": []
  },
  {
   "cell_type": "code",
   "execution_count": null,
   "id": "a74cc1be",
   "metadata": {},
   "outputs": [],
   "source": []
  }
 ],
 "metadata": {
  "kernelspec": {
   "display_name": "CS4350",
   "language": "python",
   "name": "python3"
  },
  "language_info": {
   "codemirror_mode": {
    "name": "ipython",
    "version": 3
   },
   "file_extension": ".py",
   "mimetype": "text/x-python",
   "name": "python",
   "nbconvert_exporter": "python",
   "pygments_lexer": "ipython3",
   "version": "3.10.13"
  }
 },
 "nbformat": 4,
 "nbformat_minor": 5
}
